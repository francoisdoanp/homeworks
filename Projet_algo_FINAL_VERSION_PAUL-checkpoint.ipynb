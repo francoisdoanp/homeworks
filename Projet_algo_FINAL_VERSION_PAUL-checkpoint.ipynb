{
 "cells": [
  {
   "cell_type": "markdown",
   "metadata": {
    "id": "oH8k4bksEUqG"
   },
   "source": [
    "# **Algorithms for optimization and big data analysis**\n",
    "\n",
    "Team project\n",
    "by Francois Doan-Pope & Paul Ouimet"
   ]
  },
  {
   "cell_type": "markdown",
   "metadata": {
    "id": "wVYyR3CREoK4"
   },
   "source": [
    "### The project's objective is to implement tree learning algorithms. In the first part, we will attempt to build a classification tree.\n",
    "\n",
    "In order to code the algorithm, our reference point will be the Elements of statistical learning book by Trevor Hastie, Robert Tibshirani and Jerome Friedman.\n",
    "\n",
    "The tree-building method proposed by the authors is CART. It is therefore the method we will implement. "
   ]
  },
  {
   "cell_type": "markdown",
   "metadata": {
    "id": "CDGZ2wnOLfPc"
   },
   "source": [
    "First, we have to create a general function to determine the number of observations for each labels."
   ]
  },
  {
   "cell_type": "code",
   "execution_count": 3,
   "metadata": {
    "id": "ijv_4YB1TkcW"
   },
   "outputs": [],
   "source": [
    "import pandas as pd\n",
    "import numpy as np\n",
    "import matplotlib.pyplot as plt\n"
   ]
  },
  {
   "cell_type": "code",
   "execution_count": 5,
   "metadata": {
    "id": "Uj0VgYlBBfzd"
   },
   "outputs": [],
   "source": [
    "# Iris dataset\n",
    "\n",
    "iris = pd.read_csv('https://gist.githubusercontent.com/curran/a08a1080b88344b0c8a7/raw/0e7a9b0a5d22642a06d3d5b9bcbad9890c8ee534/iris.csv')\n",
    "\n",
    "iris_data = iris.iloc[1:148, 1:].values\n",
    "test1 = iris.iloc[0,1:-1].values\n",
    "test2 = iris.iloc[149,1:-1].values"
   ]
  },
  {
   "cell_type": "code",
   "execution_count": 6,
   "metadata": {
    "id": "yOnXyC8jxd7-"
   },
   "outputs": [],
   "source": [
    "# Loan dataset\n",
    "\n",
    "loan = pd.read_csv('https://raw.githubusercontent.com/shrikant-temburwar/Loan-Prediction-Dataset/master/train.csv')\n",
    "loan.dropna(inplace=True)\n",
    "\n",
    "loan_train = loan.iloc[:400,1:].values\n",
    "loan_test = loan.iloc[400:-1,1:].values"
   ]
  },
  {
   "cell_type": "code",
   "execution_count": 7,
   "metadata": {
    "id": "QB301bytqXr_"
   },
   "outputs": [],
   "source": [
    "# Breast cancer dataset\n",
    "\n",
    "cancer = pd.read_csv('https://raw.githubusercontent.com/francoisdoanp/projects/master/data.csv')\n",
    "\n",
    "diagnosis = cancer.pop('diagnosis')\n",
    "cancer.drop(columns=['id', 'Unnamed: 32'], inplace=True)\n",
    "cancer['diagnosis'] = diagnosis\n",
    "\n",
    "cancer_train = cancer.iloc[:400,].values\n",
    "cancer_test = cancer.iloc[400:,].values\n"
   ]
  },
  {
   "cell_type": "code",
   "execution_count": 8,
   "metadata": {
    "id": "dg0bhf3eLe0o"
   },
   "outputs": [],
   "source": [
    "from collections import Counter\n",
    "\n",
    "# Function to count the number of labels (located in the last column).\n",
    "# Uses lists\n",
    "\n",
    "def label_count(data):\n",
    "\n",
    "  # Count the number of occurences for each label present in the data\n",
    "  labels_count = Counter([row[-1] for row in data])\n",
    "\n",
    "  # Return the results as a dictionary\n",
    "  return dict(labels_count)\n"
   ]
  },
  {
   "cell_type": "markdown",
   "metadata": {
    "id": "f04YLrUIO8Uc"
   },
   "source": [
    "Second, we can create a function to create a split. However, considering we can have numerical, categorical or boolean values, we need to determine which operator to use."
   ]
  },
  {
   "cell_type": "code",
   "execution_count": 10,
   "metadata": {
    "id": "_nEohNTUDmAM"
   },
   "outputs": [],
   "source": [
    "import operator\n",
    "\n",
    "# Sets the operator to:\n",
    "# eq (=) if the value evaluated is a string or a boolean\n",
    "# ge (>=) if the value evaluated is a number\n",
    "\n",
    "def operator_type(value):\n",
    "  if (isinstance(value, (int, float, complex)) and not isinstance(value, bool)) == True:\n",
    "    return operator.ge\n",
    "  else:\n",
    "    return operator.eq"
   ]
  },
  {
   "cell_type": "code",
   "execution_count": 12,
   "metadata": {
    "id": "rFuEcVLUPCB-"
   },
   "outputs": [],
   "source": [
    " import operator\n",
    "\n",
    "# Function to partition the data based on some condition applied on the column\n",
    "def partition(data, column, value):\n",
    "\n",
    "  true = []\n",
    "  false = []\n",
    "\n",
    "  op = operator_type(value)\n",
    "  \n",
    "  for obs in data:\n",
    "    if op(obs[column], value) == True:\n",
    "      true.append(obs)\n",
    "    else:\n",
    "      false.append(obs)\n",
    "\n",
    "  return true, false\n"
   ]
  },
  {
   "cell_type": "markdown",
   "metadata": {
    "id": "hBd56SRXGOD3"
   },
   "source": [
    "On page 309, the authors define the criteria for classifcation as the following:\n",
    "\n",
    "\n",
    "$\\hat{p}_{mk} = \\frac{1}{N_m}\\sum_{X_i \\in R_m}I(y_i = k)$\n",
    "\n",
    "\n",
    "Where m is the node, Rm is the region with Nm observations. Therefore, we are taking the average of the observations that are in class k. Our goal is to maximize the proportion of observations in node m that are in class k. \n",
    "\n",
    "To measure the impurity in the splitting process, we will be using the Gini index, defined by:\n",
    "\n",
    "\n",
    "$\\sum_{k\\neq k'}\\hat{p}_{mk}\\hat{p}_{mk'} = \\sum_{k=1}^K\\hat{p}_{mk}(1-\\hat{p}_{mk})$\n",
    "\n",
    "We thus have a measure of impurity.\n",
    "\n",
    "Based on the Wikipedia on decision trees, the formula for the information gain based on Gini is as follows:\n",
    "\n",
    "${I}_{G}(p) = (1-\\sum_{i=1}^K{p}_{i}^2)$\n",
    "\n"
   ]
  },
  {
   "cell_type": "markdown",
   "metadata": {
    "id": "issJIaUypHhq"
   },
   "source": [
    "With this measure, we will be able to evaluate potential splits - that is to find the information gain based on the gini index of the two resulting splits. Indeed, we will split where the information gain is the highest."
   ]
  },
  {
   "cell_type": "code",
   "execution_count": 13,
   "metadata": {
    "id": "EHka8RH4ESMi"
   },
   "outputs": [],
   "source": [
    "def gini_impurity(data):\n",
    "\n",
    "  count_labels = label_count(data)\n",
    "  impurity = 1\n",
    "  N = float(len(data))\n",
    "\n",
    "  # This for loop essential represents the sum of the probabiliies squared.\n",
    "  for labels in count_labels:\n",
    "    plabel = count_labels[labels] / N\n",
    "    impurity -= (plabel**2)\n",
    "\n",
    "  return impurity\n",
    "\n",
    "def information_gain(true, false, current_impurity):\n",
    "\n",
    "  purity = float(len(true)) / (len(true) + len(false))\n",
    "\n",
    "  return current_impurity - purity * gini_impurity(true) - (1-purity) * gini_impurity(false)\n"
   ]
  },
  {
   "cell_type": "markdown",
   "metadata": {
    "id": "0a-sJ4sKioKE"
   },
   "source": [
    "Now that we are able to quantify the quality of our splits, we need to find the best partition."
   ]
  },
  {
   "cell_type": "code",
   "execution_count": 14,
   "metadata": {
    "id": "jRyydue_oITa"
   },
   "outputs": [],
   "source": [
    "def best_partition(data, rand_features=None):\n",
    "\n",
    "  if rand_features == None:\n",
    "    feature_set = np.arange(0, len(data[0]) - 1)\n",
    "  else:\n",
    "    feature_set = rand_features\n",
    "  current_impurity = gini_impurity(data)\n",
    "\n",
    "  best_col, best_value, best_gain = 0, 0, 0\n",
    "\n",
    "  for index in feature_set:\n",
    "    for value in data:\n",
    "      true_rows, false_rows = partition(data, index, value[index])\n",
    "\n",
    "      if(len(true_rows) == 0 or len(false_rows) == 0):\n",
    "        continue\n",
    "\n",
    "      inf_gain = information_gain(true_rows, false_rows, current_impurity)\n",
    "\n",
    "      if inf_gain > best_gain:\n",
    "        best_gain, best_col, best_value = inf_gain, index, value[index]\n",
    "\n",
    "  return best_gain, best_col, best_value\n",
    "      \n",
    "     "
   ]
  },
  {
   "cell_type": "markdown",
   "metadata": {
    "id": "NVIdBZNf0FM2"
   },
   "source": [
    "For each terminal node, we need to get the most frequent class. New observations will be classified as such."
   ]
  },
  {
   "cell_type": "code",
   "execution_count": 15,
   "metadata": {
    "id": "XsC1Z6F20S8B"
   },
   "outputs": [],
   "source": [
    "def classify(data):\n",
    "\n",
    "  class_counts = label_count(data)\n",
    "\n",
    "  return max(class_counts, key=class_counts.get)"
   ]
  },
  {
   "cell_type": "markdown",
   "metadata": {
    "id": "-JmQiEFtxQvv"
   },
   "source": [
    "We finally come to the part where we are building the tree."
   ]
  },
  {
   "cell_type": "code",
   "execution_count": 16,
   "metadata": {
    "id": "3QYN8WKejZh_"
   },
   "outputs": [],
   "source": [
    "def decision_tree_classifier_fit(data, recursive_count=0, **kwargs):\n",
    "\n",
    "  parameters = ['Min_Samples', 'Max_depth', 'random_features']\n",
    "  max_depth = 999\n",
    "  min_samples = 0\n",
    "  random_features = None\n",
    "\n",
    "  for key, value in kwargs.items():\n",
    "    if key not in parameters:\n",
    "      raise Exception('The parameter ' + key + ' is invalid.')\n",
    "    else:\n",
    "      if(key == 'Max_depth'):\n",
    "        max_depth = value\n",
    "      if (key == 'Min_Samples'):\n",
    "        min_samples = value\n",
    "      if key == 'random_features':\n",
    "        random_features = value\n",
    "\n",
    "  best_gain, best_col, best_value = best_partition(data, random_features)\n",
    "\n",
    "  # base case\n",
    "  if (len(data) < min_samples) or (len(label_count(data)) == 1) or (best_gain == 0) or (recursive_count == max_depth):\n",
    "    return classify(data)\n",
    "\n",
    "  else:\n",
    "    recursive_count+=1\n",
    "    true_rows, false_rows = partition(data, best_col, best_value)\n",
    "\n",
    "    decision_node = {(best_col, best_value): []}\n",
    "\n",
    "    true_partition = decision_tree_classifier_fit(true_rows, recursive_count, **kwargs)\n",
    "    false_partition = decision_tree_classifier_fit(false_rows, recursive_count, **kwargs)\n",
    "\n",
    "    decision_node[(best_col, best_value)].append(true_partition)\n",
    "    decision_node[(best_col, best_value)].append(false_partition)\n",
    "\n",
    "    return decision_node"
   ]
  },
  {
   "cell_type": "markdown",
   "metadata": {
    "id": "fzKl3e3fzWI0"
   },
   "source": [
    "We are now able to train our tree"
   ]
  },
  {
   "cell_type": "code",
   "execution_count": 17,
   "metadata": {
    "id": "b6to_XRa7JbW"
   },
   "outputs": [],
   "source": [
    "class_tree = decision_tree_classifier_fit(cancer_train, Max_depth=10)"
   ]
  },
  {
   "cell_type": "markdown",
   "metadata": {
    "id": "oihmhEXvzX5U"
   },
   "source": [
    "The following function is to predict a single example. The function is also recursive, as it will progress deeper into the nested dictionnary to find the element that is not a dictionnary based on the splitting criterion."
   ]
  },
  {
   "cell_type": "code",
   "execution_count": 18,
   "metadata": {
    "id": "zMRHbcABB_sO"
   },
   "outputs": [],
   "source": [
    "def DSC_predict_single(observation, fitted_tree):\n",
    "  \n",
    "  column, value = list(fitted_tree)[0]\n",
    "  operator = operator_type(value)\n",
    "\n",
    "  if operator(observation[column], value) == True:\n",
    "    node = fitted_tree[column,value][0]\n",
    "  else: \n",
    "    node = fitted_tree[column,value][1]\n",
    "\n",
    "  if type(node) is not dict:\n",
    "    return node\n",
    "  else:\n",
    "    return DSC_predict_single(observation, node)"
   ]
  },
  {
   "cell_type": "markdown",
   "metadata": {
    "id": "cLe1_v8dznrH"
   },
   "source": [
    "This function is simply to apply the prediction function to a complete dataset.\n"
   ]
  },
  {
   "cell_type": "code",
   "execution_count": 19,
   "metadata": {
    "id": "SetUburVj4h-"
   },
   "outputs": [],
   "source": [
    "def decision_tree_classifier_predict(data, fitted_tree):\n",
    "\n",
    "  predictions = []\n",
    "\n",
    "  for observation in data:\n",
    "    pred = DSC_predict_single(observation, fitted_tree)\n",
    "    predictions.append(pred)\n",
    "\n",
    "  return predictions"
   ]
  },
  {
   "cell_type": "code",
   "execution_count": 20,
   "metadata": {
    "id": "_VEmsDyAyyIW"
   },
   "outputs": [],
   "source": [
    "pred_stree = decision_tree_classifier_predict(cancer_test, class_tree)"
   ]
  },
  {
   "cell_type": "markdown",
   "metadata": {
    "id": "PL-vc1Vaz_PQ"
   },
   "source": [
    "## Getting the result of the classification tree with the built-in SK-Learn funtion\n",
    "\n",
    "\n",
    "\n"
   ]
  },
  {
   "cell_type": "code",
   "execution_count": null,
   "metadata": {
    "colab": {
     "base_uri": "https://localhost:8080/"
    },
    "id": "rFNTHZ_S0FJl",
    "outputId": "22e2f3bd-1d4f-469e-8433-6d71c88ffd08"
   },
   "outputs": [],
   "source": [
    "from sklearn.tree import DecisionTreeClassifier\n",
    "from sklearn.model_selection import train_test_split\n",
    "from sklearn.metrics import confusion_matrix,accuracy_score\n",
    "\n",
    "features=[]\n",
    "for columns in cancer.columns:\n",
    "    features.append(columns)\n",
    "\n",
    "    \n",
    "features.remove('diagnosis')\n",
    "features"
   ]
  },
  {
   "cell_type": "code",
   "execution_count": 22,
   "metadata": {
    "colab": {
     "base_uri": "https://localhost:8080/"
    },
    "id": "pX2vwp7D1laS",
    "outputId": "e8643924-0c6d-4dd9-abfe-3a79220195a3"
   },
   "outputs": [
    {
     "data": {
      "text/plain": [
       "DecisionTreeClassifier(class_weight=None, criterion='gini', max_depth=10,\n",
       "                       max_features=None, max_leaf_nodes=10,\n",
       "                       min_impurity_decrease=0.0, min_impurity_split=None,\n",
       "                       min_samples_leaf=1, min_samples_split=2,\n",
       "                       min_weight_fraction_leaf=0.0, presort=False,\n",
       "                       random_state=0, splitter='best')"
      ]
     },
     "execution_count": 22,
     "metadata": {},
     "output_type": "execute_result"
    }
   ],
   "source": [
    "\n",
    "x=cancer[features].copy()\n",
    "y=cancer[['diagnosis']].copy()\n",
    "\n",
    "\n",
    "x_train,x_test,y_train,y_test= train_test_split(x,y,test_size=0.317)\n",
    "\n",
    "cancer_classifier=DecisionTreeClassifier(max_leaf_nodes=10,random_state=0, max_depth=10)\n",
    "cancer_classifier.fit(x_train,y_train)\n"
   ]
  },
  {
   "cell_type": "code",
   "execution_count": 23,
   "metadata": {
    "colab": {
     "base_uri": "https://localhost:8080/"
    },
    "id": "1FsZsHrO1R44",
    "outputId": "d752bd69-8311-4768-fdd0-2a49687ec6c7"
   },
   "outputs": [
    {
     "data": {
      "text/plain": [
       "0.8839779005524862"
      ]
     },
     "execution_count": 23,
     "metadata": {},
     "output_type": "execute_result"
    }
   ],
   "source": [
    "y_predicted=cancer_classifier.predict(x_test)\n",
    "accuracy_score(y_test, y_predicted)"
   ]
  },
  {
   "cell_type": "markdown",
   "metadata": {
    "id": "s5rd8tVWSOGZ"
   },
   "source": [
    "## Random Forests\n",
    "\n",
    "Random forest adds two key elements: bootstrapping and usage of limited features.\n",
    "\n",
    "Bootstrapping involves randomly sampling WITH replacement on the dataset. \n",
    "\n",
    "The trees are then built by using a RANDOM LIMITED set of features.\n",
    "\n",
    "We thus have to define two functions to randomly select observations and variables.\n"
   ]
  },
  {
   "cell_type": "markdown",
   "metadata": {
    "id": "OFBaL4rtRgJm"
   },
   "source": [
    "## Pseudo-Random Generators"
   ]
  },
  {
   "cell_type": "markdown",
   "metadata": {
    "id": "7vuJKwZ6TenJ"
   },
   "source": [
    "### Pseudo-Random Number Generator - Linear Congruential Generator\n",
    "\n",
    "Based on: https://aaronschlegel.me/linear-congruential-generator-r.html\n",
    "\n",
    "This function allows to randomly sample with replacement."
   ]
  },
  {
   "cell_type": "code",
   "execution_count": 24,
   "metadata": {
    "id": "_KAgJcXBHiMb"
   },
   "outputs": [],
   "source": [
    "from datetime import datetime\n",
    "import math\n",
    "\n",
    "# Based on the Linear Congruential Generator\n",
    "# n defines the quantity of numbers to be generated\n",
    "# All the generated numbers will be between 0 and num_samples\n",
    "\n",
    "def LCG(n, num_samples):\n",
    "  a = 1103515245\n",
    "  c = 12345\n",
    "  m = 2**32\n",
    "\n",
    "  numbers = []\n",
    "\n",
    "  d = int(datetime.now().strftime('%M%f')) * 1000\n",
    "\n",
    "  for i in range(n):\n",
    "    d = (a * d + c) % m\n",
    "    numbers.append(math.ceil((d/m)*num_samples)-1)\n",
    "\n",
    "  return numbers"
   ]
  },
  {
   "cell_type": "markdown",
   "metadata": {
    "id": "Py0LgIURTjHH"
   },
   "source": [
    "### Yates Shuffle Algorithm\n",
    "\n",
    "Based on the wikipedia article: https://en.wikipedia.org/wiki/Fisher%E2%80%93Yates_shuffle\n",
    "\n",
    "This function allows to shuffle the feature set. Then, we will simply pick the first n features."
   ]
  },
  {
   "cell_type": "code",
   "execution_count": 25,
   "metadata": {
    "id": "rgobw9VYTnBo"
   },
   "outputs": [],
   "source": [
    "def yates_shuffle(num_features, m):\n",
    "  features_index = list(range(0, num_features))\n",
    "  n = len(features_index)\n",
    "\n",
    "  for i in range(n-1, 0, -1):\n",
    "    j = LCG(1, i)[0]\n",
    "    features_index[i], features_index[j] = features_index[j], features_index[i]\n",
    "\n",
    "  return features_index[:m]"
   ]
  },
  {
   "cell_type": "markdown",
   "metadata": {
    "id": "X_wTkR0J3vRG"
   },
   "source": [
    "### Random Forest"
   ]
  },
  {
   "cell_type": "code",
   "execution_count": 26,
   "metadata": {
    "id": "yEdIbfVVWbmh"
   },
   "outputs": [],
   "source": [
    "# Note: m should be sqrt(num features)\n",
    "\n",
    "def sample_m_features(data, m):\n",
    "\n",
    "  num_features = len(data[1])-1\n",
    "  shuffled_features = yates_shuffle(num_features, m)\n",
    "  # Add back the target variable\n",
    "  #shuffled_features.append(-1)\n",
    "  return shuffled_features"
   ]
  },
  {
   "cell_type": "code",
   "execution_count": 27,
   "metadata": {
    "colab": {
     "base_uri": "https://localhost:8080/"
    },
    "id": "GLlg1420Ci3m",
    "outputId": "2cf06bb4-dbef-400f-f2a2-1d5667fccc82"
   },
   "outputs": [
    {
     "data": {
      "text/plain": [
       "[1, 2, 0]"
      ]
     },
     "execution_count": 27,
     "metadata": {},
     "output_type": "execute_result"
    }
   ],
   "source": [
    "a = [[1,2,3,4],\n",
    "     ['a','b','c','d']]\n",
    "\n",
    "sample_m_features(a,3)"
   ]
  },
  {
   "cell_type": "code",
   "execution_count": 28,
   "metadata": {
    "id": "3yl-8o1m3wgF"
   },
   "outputs": [],
   "source": [
    "def bootstrap(data, n):\n",
    "\n",
    "  random_sample = LCG(n, n)\n",
    "  bootstrapped_sample = []\n",
    "\n",
    "  for i in random_sample:\n",
    "    bootstrapped_sample.append(data[i])\n",
    "\n",
    "  return np.array(bootstrapped_sample)"
   ]
  },
  {
   "cell_type": "code",
   "execution_count": 29,
   "metadata": {
    "id": "YuvB-sZ6GK5y"
   },
   "outputs": [],
   "source": [
    "def build_rf_tree(data, min_samples, max_depth, max_features, n_samples):\n",
    "\n",
    "  bootstrapped_data = bootstrap(data, n_samples)\n",
    "  sampled_features = sample_m_features(data, max_features)\n",
    "\n",
    "  return decision_tree_classifier_fit(bootstrapped_data, Min_Samples=min_samples, Max_depth=max_depth, random_features=sampled_features)\n"
   ]
  },
  {
   "cell_type": "code",
   "execution_count": 31,
   "metadata": {
    "id": "Z3ymVhFGdmKR"
   },
   "outputs": [],
   "source": [
    "import math\n",
    "def random_forest_fit(data, n_trees=2, start_index=1, **kwargs):\n",
    "\n",
    "  parameters = ['min_samples', 'max_depth', 'max_features', 'n_samples', 'num_workers']\n",
    "  max_depth = 3\n",
    "  min_samples = 5\n",
    "  max_features = round(math.sqrt((data.shape[1])-1))\n",
    "  n_samples = len(data)\n",
    "  num_workers=1\n",
    "\n",
    "  for key, value in kwargs.items():\n",
    "    if key not in parameters:\n",
    "      raise Exception('The parameter ' + key + ' is invalid.')\n",
    "    else:\n",
    "      if (key == 'max_depth'):\n",
    "        max_depth = value\n",
    "      elif key == 'max_features':\n",
    "        max_features = value\n",
    "      elif key == 'n_samples':\n",
    "        n_samples = value\n",
    "      elif (key == 'min_samples'):\n",
    "        min_samples = value\n",
    "      elif (key == 'num_workers'):\n",
    "        num_workers = value\n",
    "\n",
    "  forest = {}\n",
    "\n",
    "  for i in range(start_index,(n_trees+start_index)):\n",
    "    \n",
    "    tree = build_rf_tree(data, min_samples, max_depth, max_features, n_samples)\n",
    "    forest.update({i:tree})\n",
    "\n",
    "  return forest"
   ]
  },
  {
   "cell_type": "code",
   "execution_count": 44,
   "metadata": {
    "id": "TaShx4Uug6Uo"
   },
   "outputs": [
    {
     "name": "stdout",
     "output_type": "stream",
     "text": [
      "Wall time: 4.99 s\n"
     ]
    }
   ],
   "source": [
    "%%time\n",
    "\n",
    "rf= random_forest_fit(cancer_train, 5, max_depth=10)"
   ]
  },
  {
   "cell_type": "code",
   "execution_count": 38,
   "metadata": {
    "id": "pRPM31s1imrM"
   },
   "outputs": [],
   "source": [
    "import scipy.stats\n",
    "\n",
    "def random_forest_predict(data, fitted_rf):\n",
    "\n",
    "  predictions = []\n",
    "\n",
    "  for keys, values in fitted_rf.items():\n",
    "\n",
    "    tree = values\n",
    "    prediction = decision_tree_classifier_predict(data, tree)\n",
    "    predictions.append(prediction)\n",
    "  final_preds, _ = scipy.stats.mode(predictions, axis=0) \n",
    "\n",
    "  return final_preds"
   ]
  },
  {
   "cell_type": "code",
   "execution_count": 42,
   "metadata": {
    "id": "K-vIOuN4SRNC"
   },
   "outputs": [],
   "source": [
    "\n",
    "pred_rf = random_forest_predict(cancer_test, rf)\n"
   ]
  },
  {
   "cell_type": "code",
   "execution_count": 35,
   "metadata": {
    "colab": {
     "base_uri": "https://localhost:8080/"
    },
    "id": "COhBGHdHEr2k",
    "outputId": "72b64036-8a6b-4a08-bb2e-68b2955a1cf1"
   },
   "outputs": [
    {
     "data": {
      "text/plain": [
       "0.9349112426035503"
      ]
     },
     "execution_count": 35,
     "metadata": {},
     "output_type": "execute_result"
    }
   ],
   "source": [
    "from sklearn.metrics import accuracy_score\n",
    "\n",
    "accuracy_score(cancer_test[:,-1], pred_rf[0])"
   ]
  },
  {
   "cell_type": "markdown",
   "metadata": {
    "id": "PovjaadOBZvv"
   },
   "source": [
    "## Results and accuracy analysis"
   ]
  },
  {
   "cell_type": "markdown",
   "metadata": {
    "id": "dn8uuvA5DFJI"
   },
   "source": [
    "#### Here we test the accuracy of our fonctions and the Sk-learn built in function to compare their performance"
   ]
  },
  {
   "cell_type": "code",
   "execution_count": null,
   "metadata": {
    "colab": {
     "base_uri": "https://localhost:8080/"
    },
    "id": "07Sq-QQ6BPbg",
    "outputId": "8e3be974-17d3-4030-c005-d52e2c70ef93"
   },
   "outputs": [],
   "source": [
    "random_forest=accuracy_score(cancer_test[:,-1], pred_rf[0])\n",
    "decision_tree=accuracy_score(cancer_test[:,-1], np.array(pred_stree))\n",
    "decision_tree_built_in=accuracy_score(y_test, y_predicted)\n",
    "\n",
    "print(\"Acurracy of our random forest algorithm is\", random_forest)\n",
    "print(\"Acurracy of our decision tree algorithm is\", decision_tree)\n",
    "print(\"Acurracy of Sklearn built in decision tree algorithm is\", decision_tree_built_in)\n"
   ]
  },
  {
   "cell_type": "markdown",
   "metadata": {
    "id": "bGB09I-ADUFX"
   },
   "source": [
    "#### We can see the different computing time and accuracy when changing the n_trees variable in our Random forest algorithm"
   ]
  },
  {
   "cell_type": "code",
   "execution_count": 70,
   "metadata": {
    "colab": {
     "base_uri": "https://localhost:8080/",
     "height": 404
    },
    "id": "XZhIpOWQDgrf",
    "outputId": "030a3d3e-5e6f-4ab2-d59d-f5f1e15d5bb8"
   },
   "outputs": [
    {
     "data": {
      "image/png": "[encoded data removed]",
      "text/plain": [
       "<Figure size 1440x432 with 2 Axes>"
      ]
     },
     "metadata": {
      "needs_background": "light",
      "tags": []
     },
     "output_type": "display_data"
    }
   ],
   "source": [
    "#computed manually, here to give a general ideas of the tendencies\n",
    "time=[4.79,9.27,14.2,18.9,23.1,27.9]\n",
    "accuracy=[0.88757,0.9444970,0.9526627,0.9763,0.9763,0.9763]\n",
    "N_trees=[5,10,15,20,25,30]\n",
    "\n",
    "plt.figure(figsize=(20, 6))\n",
    "\n",
    "plt.subplot(131)\n",
    "plt.plot(N_trees,time,color='r')\n",
    "plt.title('Time increase depending of N of Trees')\n",
    "plt.xlabel('Number of trees')\n",
    "plt.ylabel('Time(seconds)')\n",
    "plt.subplot(132)\n",
    "plt.plot(N_trees,accuracy)\n",
    "plt.title('Accuracy increase depending of N of Trees')\n",
    "plt.xlabel('Number of trees')\n",
    "plt.ylabel('Accuracy')\n",
    "\n",
    "plt.show()\n"
   ]
  },
  {
   "cell_type": "markdown",
   "metadata": {
    "id": "jwK9hFGyWFfo"
   },
   "source": [
    "# Parallel Random Forests"
   ]
  },
  {
   "cell_type": "code",
   "execution_count": 73,
   "metadata": {
    "id": "aJIrHV1xWHE0"
   },
   "outputs": [],
   "source": [
    "import math\n",
    "@ray.remote\n",
    "def random_forest_fit_modified(data, n_trees=2, start_index=1, **kwargs):\n",
    "\n",
    "  parameters = ['min_samples', 'max_depth', 'max_features', 'n_samples', 'num_workers']\n",
    "  max_depth = 3\n",
    "  min_samples = 5\n",
    "  max_features = round(math.sqrt((data.shape[1])-1))\n",
    "  n_samples = len(data)\n",
    "  num_workers=1\n",
    "\n",
    "  for key, value in kwargs.items():\n",
    "    if key not in parameters:\n",
    "      raise Exception('The parameter ' + key + ' is invalid.')\n",
    "    else:\n",
    "      if (key == 'max_depth'):\n",
    "        max_depth = value\n",
    "      elif key == 'max_features':\n",
    "        max_features = value\n",
    "      elif key == 'n_samples':\n",
    "        n_samples = value\n",
    "      elif (key == 'min_samples'):\n",
    "        min_samples = value\n",
    "      elif (key == 'num_workers'):\n",
    "        num_workers = value\n",
    "\n",
    "  forest = {}\n",
    "\n",
    "  for i in range(start_index,(n_trees+start_index)):\n",
    "    \n",
    "    tree = build_rf_tree(data, min_samples, max_depth, max_features, n_samples)\n",
    "    forest.update({i:tree})\n",
    "\n",
    "  return forest"
   ]
  },
  {
   "cell_type": "code",
   "execution_count": null,
   "metadata": {
    "colab": {
     "base_uri": "https://localhost:8080/"
    },
    "id": "UIybu6yWb6ag",
    "outputId": "2faedc13-abf9-48bd-b5a7-d2159952c926"
   },
   "outputs": [],
   "source": [
    "!pip install ray"
   ]
  },
  {
   "cell_type": "code",
   "execution_count": null,
   "metadata": {
    "colab": {
     "base_uri": "https://localhost:8080/"
    },
    "id": "Tauuao-8VKpg",
    "outputId": "ae36798a-15fb-4aa6-8f4b-cd6c78ff417d"
   },
   "outputs": [],
   "source": [
    "import multiprocessing as mp\n",
    "import ray\n",
    "\n",
    "ray.init()"
   ]
  },
  {
   "cell_type": "code",
   "execution_count": 74,
   "metadata": {
    "id": "viEr4TEcnZsa"
   },
   "outputs": [],
   "source": [
    "def parallel_rf_fit(data, num_trees, **kwargs): \n",
    "\n",
    "  parameters = ['min_samples', 'max_depth', 'max_features', 'n_samples', 'num_workers']\n",
    "  max_depth = 3\n",
    "  min_samples = 5\n",
    "  max_features = round(math.sqrt(len(data[1])-1))\n",
    "  n_samples = len(data)\n",
    "  num_workers=1\n",
    "  max_cpu = mp.cpu_count()\n",
    "\n",
    "  for key, value in kwargs.items():\n",
    "    if key not in parameters:\n",
    "      raise Exception('The parameter ' + key + ' is invalid.')\n",
    "    else:\n",
    "      if (key == 'max_depth'):\n",
    "        max_depth = value\n",
    "      elif key == 'max_features':\n",
    "        max_features = value\n",
    "      elif key == 'n_samples':\n",
    "        n_samples = value\n",
    "      elif (key == 'min_samples'):\n",
    "        min_samples = value\n",
    "      elif (key == 'num_workers') and value > max_cpu:\n",
    "        num_workers = max_cpu\n",
    "\n",
    "\n",
    "  return ray.get([random_forest_fit_modified.remote(data, int(num_trees/2), start_index=int((num_trees - ((num_workers/x) * (num_trees/num_workers))+1))) for x in range(1,num_workers+2)])\n"
   ]
  },
  {
   "cell_type": "code",
   "execution_count": null,
   "metadata": {
    "colab": {
     "base_uri": "https://localhost:8080/"
    },
    "id": "f-URMCofpW7J",
    "outputId": "24f62a89-31c9-44b7-b6d1-024436bc3f8e"
   },
   "outputs": [
    {
     "name": "stdout",
     "output_type": "stream",
     "text": [
      "CPU times: user 8.07 s, sys: 1.9 s, total: 9.97 s\n",
      "Wall time: 6min 45s\n"
     ]
    }
   ],
   "source": [
    "%%time\n",
    "ret = parallel_rf_fit(cancer_train, num_trees=500, max_depth=5, num_workers=2)\n"
   ]
  },
  {
   "cell_type": "code",
   "execution_count": null,
   "metadata": {
    "colab": {
     "base_uri": "https://localhost:8080/"
    },
    "id": "m_ZfytoJvKRy",
    "outputId": "4884b06b-1a85-44ba-b741-cf798d358ea4"
   },
   "outputs": [
    {
     "name": "stdout",
     "output_type": "stream",
     "text": [
      "CPU times: user 7min 51s, sys: 8.27 s, total: 7min 59s\n",
      "Wall time: 7min 58s\n"
     ]
    }
   ],
   "source": [
    "%%time \n",
    "ret2 = random_forest_fit(cancer_train, n_trees=500, max_depth=5)"
   ]
  }
 ],
 "metadata": {
  "colab": {
   "collapsed_sections": [
    "s5rd8tVWSOGZ"
   ],
   "name": "Projet_algo_FINAL_VERSION_P.ipynb",
   "provenance": []
  },
  "kernelspec": {
   "display_name": "Python 3",
   "language": "python",
   "name": "python3"
  },
  "language_info": {
   "codemirror_mode": {
    "name": "ipython",
    "version": 3
   },
   "file_extension": ".py",
   "mimetype": "text/x-python",
   "name": "python",
   "nbconvert_exporter": "python",
   "pygments_lexer": "ipython3",
   "version": "3.7.4"
  }
 },
 "nbformat": 4,
 "nbformat_minor": 1
}
